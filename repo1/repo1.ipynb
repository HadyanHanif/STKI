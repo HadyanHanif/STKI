{
 "cells": [
  {
   "cell_type": "markdown",
   "metadata": {},
   "source": [
    "## Lower Case ##\n",
    "Merubah teks menjadi format kecil"
   ]
  },
  {
   "cell_type": "code",
   "execution_count": 3,
   "metadata": {},
   "outputs": [
    {
     "name": "stdout",
     "output_type": "stream",
     "text": [
      "keramaian perayaan tahun baru di jakarta berada di sejumlah lokasi seperti ancol, tmii, monas dan kawasan bundaran hotel indonesia (hi). car free night yang diberlakukan di sudirman-jl mh thamrin, membuat jalur tersebut dipadati warga. yang berbeda di pergantian tahun kali ini, pemprov dki menggelar nikah massal. ada 437 pasangan yang menikah dengan saksi gubernur-wagub dki anies baswedan-sandiaga uno pada minggu (31/12/2017) malam. pergantian tahun lebih dulu dijalani warga di timur indonesia. kemeriahan tahun baru di kota jayapura terpusat di halaman kantor gubernur papua, jl soa siu dok 2. sedangkan di kota ambon, ada 4 titik perayaan malam tahun baru salah satunya di jembatan merah puti semarak tahun baru juga terasa di sejumlah wilayah tengah indonesia. kembang api menyemarakkan pergantian tahun yang dirayakan warga makassar di kawasan pantai losari. pada pergantian tahun ini, presiden joko widodo lewat akun facebook menyampaikan ucapan selamat tahun baru. jokowi bicara mengenai visi indonesia ke depan menjadi negara maju. \"saat ini dan tahun-tahun mendatang, kita berlayar menuju negara maju dengan membangun manusia indonesia. manusia indonesia yang unggul, yang tangguh, yang bermartabat,\" ujarnya. tapi bukan hanya soal negara, jokowi dalam pesannya menyelipkan ucapan selamat berlibur. \"tentu ada rasa lelah, karena kurang istirahat, karena kurang piknik. selamat berlibur di akhir tahun kepada yang berlibur. selamat berlibur di akhir tahun kepada yang berlibur. semoga kita semuanya mendapatkan energi dan semangat yang baru dalam menyongsong tahun baru 2018,\" tutur dia. selamat tahun baru 2018\n"
     ]
    }
   ],
   "source": [
    "kalimat = \"Keramaian perayaan Tahun Baru di Jakarta berada di sejumlah lokasi seperti Ancol, TMII, Monas dan kawasan Bundaran Hotel Indonesia (HI). Car free night yang diberlakukan di Sudirman-Jl Mh Thamrin, membuat jalur tersebut dipadati warga. Yang berbeda di pergantian tahun kali ini, Pemprov DKI menggelar nikah massal. Ada 437 pasangan yang menikah dengan saksi Gubernur-Wagub DKI Anies Baswedan-Sandiaga Uno pada Minggu (31/12/2017) malam. Pergantian tahun lebih dulu dijalani warga di timur Indonesia. Kemeriahan tahun baru di Kota Jayapura terpusat di halaman kantor Gubernur Papua, Jl Soa Siu Dok 2. Sedangkan di Kota Ambon, ada 4 titik perayaan malam tahun baru salah satunya di Jembatan Merah Puti Semarak tahun baru juga terasa di sejumlah wilayah tengah Indonesia. Kembang api menyemarakkan pergantian tahun yang dirayakan warga Makassar di kawasan Pantai Losari. Pada pergantian tahun ini, Presiden Joko Widodo lewat akun Facebook menyampaikan ucapan selamat tahun baru. Jokowi bicara mengenai visi Indonesia ke depan menjadi negara maju. \\\"Saat ini dan tahun-tahun mendatang, kita berlayar menuju negara maju dengan membangun manusia Indonesia. Manusia Indonesia yang unggul, yang tangguh, yang bermartabat,\\\" ujarnya. Tapi bukan hanya soal negara, Jokowi dalam pesannya menyelipkan ucapan selamat berlibur. \\\"Tentu ada rasa lelah, karena kurang istirahat, karena kurang piknik. Selamat berlibur di akhir tahun kepada yang berlibur. Selamat berlibur di akhir tahun kepada yang berlibur. Semoga kita semuanya mendapatkan energi dan semangat yang baru dalam menyongsong Tahun Baru 2018,\\\" tutur dia. Selamat tahun baru 2018\"\n",
    "lower_case = kalimat.lower()\n",
    "print(lower_case)"
   ]
  },
  {
   "cell_type": "markdown",
   "metadata": {},
   "source": [
    "## Removing Number ##\n",
    "Menghapus karakter angka dari teks"
   ]
  },
  {
   "cell_type": "code",
   "execution_count": 4,
   "metadata": {},
   "outputs": [
    {
     "data": {
      "text/plain": [
       "'Keramaian perayaan Tahun Baru di Jakarta berada di sejumlah lokasi seperti Ancol, TMII, Monas dan kawasan Bundaran Hotel Indonesia (HI). Car free night yang diberlakukan di Sudirman-Jl Mh Thamrin, membuat jalur tersebut dipadati warga. Yang berbeda di pergantian tahun kali ini, Pemprov DKI menggelar nikah massal. Ada  pasangan yang menikah dengan saksi Gubernur-Wagub DKI Anies Baswedan-Sandiaga Uno pada Minggu (//) malam. Pergantian tahun lebih dulu dijalani warga di timur Indonesia. Kemeriahan tahun baru di Kota Jayapura terpusat di halaman kantor Gubernur Papua, Jl Soa Siu Dok . Sedangkan di Kota Ambon, ada  titik perayaan malam tahun baru salah satunya di Jembatan Merah Puti Semarak tahun baru juga terasa di sejumlah wilayah tengah Indonesia. Kembang api menyemarakkan pergantian tahun yang dirayakan warga Makassar di kawasan Pantai Losari. Pada pergantian tahun ini, Presiden Joko Widodo lewat akun Facebook menyampaikan ucapan selamat tahun baru. Jokowi bicara mengenai visi Indonesia ke depan menjadi negara maju. \"Saat ini dan tahun-tahun mendatang, kita berlayar menuju negara maju dengan membangun manusia Indonesia. Manusia Indonesia yang unggul, yang tangguh, yang bermartabat,\" ujarnya. Tapi bukan hanya soal negara, Jokowi dalam pesannya menyelipkan ucapan selamat berlibur. \"Tentu ada rasa lelah, karena kurang istirahat, karena kurang piknik. Selamat berlibur di akhir tahun kepada yang berlibur. Selamat berlibur di akhir tahun kepada yang berlibur. Semoga kita semuanya mendapatkan energi dan semangat yang baru dalam menyongsong Tahun Baru ,\" tutur dia. Selamat tahun baru '"
      ]
     },
     "execution_count": 4,
     "metadata": {},
     "output_type": "execute_result"
    }
   ],
   "source": [
    "import re\n",
    "kalimat = \"Keramaian perayaan Tahun Baru di Jakarta berada di sejumlah lokasi seperti Ancol, TMII, Monas dan kawasan Bundaran Hotel Indonesia (HI). Car free night yang diberlakukan di Sudirman-Jl Mh Thamrin, membuat jalur tersebut dipadati warga. Yang berbeda di pergantian tahun kali ini, Pemprov DKI menggelar nikah massal. Ada 437 pasangan yang menikah dengan saksi Gubernur-Wagub DKI Anies Baswedan-Sandiaga Uno pada Minggu (31/12/2017) malam. Pergantian tahun lebih dulu dijalani warga di timur Indonesia. Kemeriahan tahun baru di Kota Jayapura terpusat di halaman kantor Gubernur Papua, Jl Soa Siu Dok 2. Sedangkan di Kota Ambon, ada 4 titik perayaan malam tahun baru salah satunya di Jembatan Merah Puti Semarak tahun baru juga terasa di sejumlah wilayah tengah Indonesia. Kembang api menyemarakkan pergantian tahun yang dirayakan warga Makassar di kawasan Pantai Losari. Pada pergantian tahun ini, Presiden Joko Widodo lewat akun Facebook menyampaikan ucapan selamat tahun baru. Jokowi bicara mengenai visi Indonesia ke depan menjadi negara maju. \\\"Saat ini dan tahun-tahun mendatang, kita berlayar menuju negara maju dengan membangun manusia Indonesia. Manusia Indonesia yang unggul, yang tangguh, yang bermartabat,\\\" ujarnya. Tapi bukan hanya soal negara, Jokowi dalam pesannya menyelipkan ucapan selamat berlibur. \\\"Tentu ada rasa lelah, karena kurang istirahat, karena kurang piknik. Selamat berlibur di akhir tahun kepada yang berlibur. Selamat berlibur di akhir tahun kepada yang berlibur. Semoga kita semuanya mendapatkan energi dan semangat yang baru dalam menyongsong Tahun Baru 2018,\\\" tutur dia. Selamat tahun baru 2018\"\n",
    "\n",
    "hasil = re.sub(r\"\\d+\", \"\", kalimat)\n",
    "hasil"
   ]
  },
  {
   "cell_type": "markdown",
   "metadata": {},
   "source": [
    "## Removing Punctuation ##\n",
    "Menghapus karakter tanda baca dari teks"
   ]
  },
  {
   "cell_type": "code",
   "execution_count": 5,
   "metadata": {},
   "outputs": [
    {
     "data": {
      "text/plain": [
       "'Keramaian perayaan Tahun Baru di Jakarta berada di sejumlah lokasi seperti Ancol TMII Monas dan kawasan Bundaran Hotel Indonesia HI Car free night yang diberlakukan di SudirmanJl Mh Thamrin membuat jalur tersebut dipadati warga Yang berbeda di pergantian tahun kali ini Pemprov DKI menggelar nikah massal Ada 437 pasangan yang menikah dengan saksi GubernurWagub DKI Anies BaswedanSandiaga Uno pada Minggu 31122017 malam Pergantian tahun lebih dulu dijalani warga di timur Indonesia Kemeriahan tahun baru di Kota Jayapura terpusat di halaman kantor Gubernur Papua Jl Soa Siu Dok 2 Sedangkan di Kota Ambon ada 4 titik perayaan malam tahun baru salah satunya di Jembatan Merah Puti Semarak tahun baru juga terasa di sejumlah wilayah tengah Indonesia Kembang api menyemarakkan pergantian tahun yang dirayakan warga Makassar di kawasan Pantai Losari Pada pergantian tahun ini Presiden Joko Widodo lewat akun Facebook menyampaikan ucapan selamat tahun baru Jokowi bicara mengenai visi Indonesia ke depan menjadi negara maju Saat ini dan tahuntahun mendatang kita berlayar menuju negara maju dengan membangun manusia Indonesia Manusia Indonesia yang unggul yang tangguh yang bermartabat ujarnya Tapi bukan hanya soal negara Jokowi dalam pesannya menyelipkan ucapan selamat berlibur Tentu ada rasa lelah karena kurang istirahat karena kurang piknik Selamat berlibur di akhir tahun kepada yang berlibur Selamat berlibur di akhir tahun kepada yang berlibur Semoga kita semuanya mendapatkan energi dan semangat yang baru dalam menyongsong Tahun Baru 2018 tutur dia Selamat tahun baru 2018'"
      ]
     },
     "execution_count": 5,
     "metadata": {},
     "output_type": "execute_result"
    }
   ],
   "source": [
    "import string\n",
    "kalimat = \"Keramaian perayaan Tahun Baru di Jakarta berada di sejumlah lokasi seperti Ancol, TMII, Monas dan kawasan Bundaran Hotel Indonesia (HI). Car free night yang diberlakukan di Sudirman-Jl Mh Thamrin, membuat jalur tersebut dipadati warga. Yang berbeda di pergantian tahun kali ini, Pemprov DKI menggelar nikah massal. Ada 437 pasangan yang menikah dengan saksi Gubernur-Wagub DKI Anies Baswedan-Sandiaga Uno pada Minggu (31/12/2017) malam. Pergantian tahun lebih dulu dijalani warga di timur Indonesia. Kemeriahan tahun baru di Kota Jayapura terpusat di halaman kantor Gubernur Papua, Jl Soa Siu Dok 2. Sedangkan di Kota Ambon, ada 4 titik perayaan malam tahun baru salah satunya di Jembatan Merah Puti Semarak tahun baru juga terasa di sejumlah wilayah tengah Indonesia. Kembang api menyemarakkan pergantian tahun yang dirayakan warga Makassar di kawasan Pantai Losari. Pada pergantian tahun ini, Presiden Joko Widodo lewat akun Facebook menyampaikan ucapan selamat tahun baru. Jokowi bicara mengenai visi Indonesia ke depan menjadi negara maju. \\\"Saat ini dan tahun-tahun mendatang, kita berlayar menuju negara maju dengan membangun manusia Indonesia. Manusia Indonesia yang unggul, yang tangguh, yang bermartabat,\\\" ujarnya. Tapi bukan hanya soal negara, Jokowi dalam pesannya menyelipkan ucapan selamat berlibur. \\\"Tentu ada rasa lelah, karena kurang istirahat, karena kurang piknik. Selamat berlibur di akhir tahun kepada yang berlibur. Selamat berlibur di akhir tahun kepada yang berlibur. Semoga kita semuanya mendapatkan energi dan semangat yang baru dalam menyongsong Tahun Baru 2018,\\\" tutur dia. Selamat tahun baru 2018\"\n",
    "\n",
    "hasil = kalimat.translate(str.maketrans(\"\",\"\",string.punctuation))\n",
    "hasil"
   ]
  },
  {
   "cell_type": "markdown",
   "metadata": {},
   "source": [
    "## Removing Whitespace ##\n",
    "Menghapus karakter kosong dari teks"
   ]
  },
  {
   "cell_type": "code",
   "execution_count": 7,
   "metadata": {},
   "outputs": [
    {
     "data": {
      "text/plain": [
       "'Keramaian perayaan Tahun Baru di Jakarta berada di sejumlah lokasi seperti Ancol, TMII, Monas dan kawasan Bundaran Hotel Indonesia (HI). Car free night yang diberlakukan di Sudirman-Jl Mh Thamrin, membuat jalur tersebut dipadati warga. Yang berbeda di pergantian tahun kali ini, Pemprov DKI menggelar nikah massal. Ada 437 pasangan yang menikah dengan saksi Gubernur-Wagub DKI Anies Baswedan-Sandiaga Uno pada Minggu (31/12/2017) malam. Pergantian tahun lebih dulu dijalani warga di timur Indonesia. Kemeriahan tahun baru di Kota Jayapura terpusat di halaman kantor Gubernur Papua, Jl Soa Siu Dok 2. Sedangkan di Kota Ambon, ada 4 titik perayaan malam tahun baru salah satunya di Jembatan Merah Puti Semarak tahun baru juga terasa di sejumlah wilayah tengah Indonesia. Kembang api menyemarakkan pergantian tahun yang dirayakan warga Makassar di kawasan Pantai Losari. Pada pergantian tahun ini, Presiden Joko Widodo lewat akun Facebook menyampaikan ucapan selamat tahun baru. Jokowi bicara mengenai visi Indonesia ke depan menjadi negara maju. \"Saat ini dan tahun-tahun mendatang, kita berlayar menuju negara maju dengan membangun manusia Indonesia. Manusia Indonesia yang unggul, yang tangguh, yang bermartabat,\" ujarnya. Tapi bukan hanya soal negara, Jokowi dalam pesannya menyelipkan ucapan selamat berlibur. \"Tentu ada rasa lelah, karena kurang istirahat, karena kurang piknik. Selamat berlibur di akhir tahun kepada yang berlibur. Selamat berlibur di akhir tahun kepada yang berlibur. Semoga kita semuanya mendapatkan energi dan semangat yang baru dalam menyongsong Tahun Baru 2018,\" tutur dia. Selamat tahun baru 2018'"
      ]
     },
     "execution_count": 7,
     "metadata": {},
     "output_type": "execute_result"
    }
   ],
   "source": [
    "kalimat = \"Keramaian perayaan Tahun Baru di Jakarta berada di sejumlah lokasi seperti Ancol, TMII, Monas dan kawasan Bundaran Hotel Indonesia (HI). Car free night yang diberlakukan di Sudirman-Jl Mh Thamrin, membuat jalur tersebut dipadati warga. Yang berbeda di pergantian tahun kali ini, Pemprov DKI menggelar nikah massal. Ada 437 pasangan yang menikah dengan saksi Gubernur-Wagub DKI Anies Baswedan-Sandiaga Uno pada Minggu (31/12/2017) malam. Pergantian tahun lebih dulu dijalani warga di timur Indonesia. Kemeriahan tahun baru di Kota Jayapura terpusat di halaman kantor Gubernur Papua, Jl Soa Siu Dok 2. Sedangkan di Kota Ambon, ada 4 titik perayaan malam tahun baru salah satunya di Jembatan Merah Puti Semarak tahun baru juga terasa di sejumlah wilayah tengah Indonesia. Kembang api menyemarakkan pergantian tahun yang dirayakan warga Makassar di kawasan Pantai Losari. Pada pergantian tahun ini, Presiden Joko Widodo lewat akun Facebook menyampaikan ucapan selamat tahun baru. Jokowi bicara mengenai visi Indonesia ke depan menjadi negara maju. \\\"Saat ini dan tahun-tahun mendatang, kita berlayar menuju negara maju dengan membangun manusia Indonesia. Manusia Indonesia yang unggul, yang tangguh, yang bermartabat,\\\" ujarnya. Tapi bukan hanya soal negara, Jokowi dalam pesannya menyelipkan ucapan selamat berlibur. \\\"Tentu ada rasa lelah, karena kurang istirahat, karena kurang piknik. Selamat berlibur di akhir tahun kepada yang berlibur. Selamat berlibur di akhir tahun kepada yang berlibur. Semoga kita semuanya mendapatkan energi dan semangat yang baru dalam menyongsong Tahun Baru 2018,\\\" tutur dia. Selamat tahun baru 2018\"\n",
    "\n",
    "hasil = kalimat.strip()\n",
    "hasil"
   ]
  },
  {
   "cell_type": "markdown",
   "metadata": {},
   "source": [
    "## Separating sentence with split () method ##\n",
    "Memisahkan string ke dalam list"
   ]
  },
  {
   "cell_type": "code",
   "execution_count": 8,
   "metadata": {},
   "outputs": [
    {
     "data": {
      "text/plain": [
       "['Keramaian',\n",
       " 'perayaan',\n",
       " 'Tahun',\n",
       " 'Baru',\n",
       " 'di',\n",
       " 'Jakarta',\n",
       " 'berada',\n",
       " 'di',\n",
       " 'sejumlah',\n",
       " 'lokasi',\n",
       " 'seperti',\n",
       " 'Ancol,',\n",
       " 'TMII,',\n",
       " 'Monas',\n",
       " 'dan',\n",
       " 'kawasan',\n",
       " 'Bundaran',\n",
       " 'Hotel',\n",
       " 'Indonesia',\n",
       " '(HI).',\n",
       " 'Car',\n",
       " 'free',\n",
       " 'night',\n",
       " 'yang',\n",
       " 'diberlakukan',\n",
       " 'di',\n",
       " 'Sudirman-Jl',\n",
       " 'Mh',\n",
       " 'Thamrin,',\n",
       " 'membuat',\n",
       " 'jalur',\n",
       " 'tersebut',\n",
       " 'dipadati',\n",
       " 'warga.',\n",
       " 'Yang',\n",
       " 'berbeda',\n",
       " 'di',\n",
       " 'pergantian',\n",
       " 'tahun',\n",
       " 'kali',\n",
       " 'ini,',\n",
       " 'Pemprov',\n",
       " 'DKI',\n",
       " 'menggelar',\n",
       " 'nikah',\n",
       " 'massal.',\n",
       " 'Ada',\n",
       " '437',\n",
       " 'pasangan',\n",
       " 'yang',\n",
       " 'menikah',\n",
       " 'dengan',\n",
       " 'saksi',\n",
       " 'Gubernur-Wagub',\n",
       " 'DKI',\n",
       " 'Anies',\n",
       " 'Baswedan-Sandiaga',\n",
       " 'Uno',\n",
       " 'pada',\n",
       " 'Minggu',\n",
       " '(31/12/2017)',\n",
       " 'malam.',\n",
       " 'Pergantian',\n",
       " 'tahun',\n",
       " 'lebih',\n",
       " 'dulu',\n",
       " 'dijalani',\n",
       " 'warga',\n",
       " 'di',\n",
       " 'timur',\n",
       " 'Indonesia.',\n",
       " 'Kemeriahan',\n",
       " 'tahun',\n",
       " 'baru',\n",
       " 'di',\n",
       " 'Kota',\n",
       " 'Jayapura',\n",
       " 'terpusat',\n",
       " 'di',\n",
       " 'halaman',\n",
       " 'kantor',\n",
       " 'Gubernur',\n",
       " 'Papua,',\n",
       " 'Jl',\n",
       " 'Soa',\n",
       " 'Siu',\n",
       " 'Dok',\n",
       " '2.',\n",
       " 'Sedangkan',\n",
       " 'di',\n",
       " 'Kota',\n",
       " 'Ambon,',\n",
       " 'ada',\n",
       " '4',\n",
       " 'titik',\n",
       " 'perayaan',\n",
       " 'malam',\n",
       " 'tahun',\n",
       " 'baru',\n",
       " 'salah',\n",
       " 'satunya',\n",
       " 'di',\n",
       " 'Jembatan',\n",
       " 'Merah',\n",
       " 'Puti',\n",
       " 'Semarak',\n",
       " 'tahun',\n",
       " 'baru',\n",
       " 'juga',\n",
       " 'terasa',\n",
       " 'di',\n",
       " 'sejumlah',\n",
       " 'wilayah',\n",
       " 'tengah',\n",
       " 'Indonesia.',\n",
       " 'Kembang',\n",
       " 'api',\n",
       " 'menyemarakkan',\n",
       " 'pergantian',\n",
       " 'tahun',\n",
       " 'yang',\n",
       " 'dirayakan',\n",
       " 'warga',\n",
       " 'Makassar',\n",
       " 'di',\n",
       " 'kawasan',\n",
       " 'Pantai',\n",
       " 'Losari.',\n",
       " 'Pada',\n",
       " 'pergantian',\n",
       " 'tahun',\n",
       " 'ini,',\n",
       " 'Presiden',\n",
       " 'Joko',\n",
       " 'Widodo',\n",
       " 'lewat',\n",
       " 'akun',\n",
       " 'Facebook',\n",
       " 'menyampaikan',\n",
       " 'ucapan',\n",
       " 'selamat',\n",
       " 'tahun',\n",
       " 'baru.',\n",
       " 'Jokowi',\n",
       " 'bicara',\n",
       " 'mengenai',\n",
       " 'visi',\n",
       " 'Indonesia',\n",
       " 'ke',\n",
       " 'depan',\n",
       " 'menjadi',\n",
       " 'negara',\n",
       " 'maju.',\n",
       " '\"Saat',\n",
       " 'ini',\n",
       " 'dan',\n",
       " 'tahun-tahun',\n",
       " 'mendatang,',\n",
       " 'kita',\n",
       " 'berlayar',\n",
       " 'menuju',\n",
       " 'negara',\n",
       " 'maju',\n",
       " 'dengan',\n",
       " 'membangun',\n",
       " 'manusia',\n",
       " 'Indonesia.',\n",
       " 'Manusia',\n",
       " 'Indonesia',\n",
       " 'yang',\n",
       " 'unggul,',\n",
       " 'yang',\n",
       " 'tangguh,',\n",
       " 'yang',\n",
       " 'bermartabat,\"',\n",
       " 'ujarnya.',\n",
       " 'Tapi',\n",
       " 'bukan',\n",
       " 'hanya',\n",
       " 'soal',\n",
       " 'negara,',\n",
       " 'Jokowi',\n",
       " 'dalam',\n",
       " 'pesannya',\n",
       " 'menyelipkan',\n",
       " 'ucapan',\n",
       " 'selamat',\n",
       " 'berlibur.',\n",
       " '\"Tentu',\n",
       " 'ada',\n",
       " 'rasa',\n",
       " 'lelah,',\n",
       " 'karena',\n",
       " 'kurang',\n",
       " 'istirahat,',\n",
       " 'karena',\n",
       " 'kurang',\n",
       " 'piknik.',\n",
       " 'Selamat',\n",
       " 'berlibur',\n",
       " 'di',\n",
       " 'akhir',\n",
       " 'tahun',\n",
       " 'kepada',\n",
       " 'yang',\n",
       " 'berlibur.',\n",
       " 'Selamat',\n",
       " 'berlibur',\n",
       " 'di',\n",
       " 'akhir',\n",
       " 'tahun',\n",
       " 'kepada',\n",
       " 'yang',\n",
       " 'berlibur.',\n",
       " 'Semoga',\n",
       " 'kita',\n",
       " 'semuanya',\n",
       " 'mendapatkan',\n",
       " 'energi',\n",
       " 'dan',\n",
       " 'semangat',\n",
       " 'yang',\n",
       " 'baru',\n",
       " 'dalam',\n",
       " 'menyongsong',\n",
       " 'Tahun',\n",
       " 'Baru',\n",
       " '2018,\"',\n",
       " 'tutur',\n",
       " 'dia.',\n",
       " 'Selamat',\n",
       " 'tahun',\n",
       " 'baru',\n",
       " '2018']"
      ]
     },
     "execution_count": 8,
     "metadata": {},
     "output_type": "execute_result"
    }
   ],
   "source": [
    "kalimat = \"Keramaian perayaan Tahun Baru di Jakarta berada di sejumlah lokasi seperti Ancol, TMII, Monas dan kawasan Bundaran Hotel Indonesia (HI). Car free night yang diberlakukan di Sudirman-Jl Mh Thamrin, membuat jalur tersebut dipadati warga. Yang berbeda di pergantian tahun kali ini, Pemprov DKI menggelar nikah massal. Ada 437 pasangan yang menikah dengan saksi Gubernur-Wagub DKI Anies Baswedan-Sandiaga Uno pada Minggu (31/12/2017) malam. Pergantian tahun lebih dulu dijalani warga di timur Indonesia. Kemeriahan tahun baru di Kota Jayapura terpusat di halaman kantor Gubernur Papua, Jl Soa Siu Dok 2. Sedangkan di Kota Ambon, ada 4 titik perayaan malam tahun baru salah satunya di Jembatan Merah Puti Semarak tahun baru juga terasa di sejumlah wilayah tengah Indonesia. Kembang api menyemarakkan pergantian tahun yang dirayakan warga Makassar di kawasan Pantai Losari. Pada pergantian tahun ini, Presiden Joko Widodo lewat akun Facebook menyampaikan ucapan selamat tahun baru. Jokowi bicara mengenai visi Indonesia ke depan menjadi negara maju. \\\"Saat ini dan tahun-tahun mendatang, kita berlayar menuju negara maju dengan membangun manusia Indonesia. Manusia Indonesia yang unggul, yang tangguh, yang bermartabat,\\\" ujarnya. Tapi bukan hanya soal negara, Jokowi dalam pesannya menyelipkan ucapan selamat berlibur. \\\"Tentu ada rasa lelah, karena kurang istirahat, karena kurang piknik. Selamat berlibur di akhir tahun kepada yang berlibur. Selamat berlibur di akhir tahun kepada yang berlibur. Semoga kita semuanya mendapatkan energi dan semangat yang baru dalam menyongsong Tahun Baru 2018,\\\" tutur dia. Selamat tahun baru 2018\"\n",
    "\n",
    "pisah = kalimat.split()\n",
    "pisah"
   ]
  },
  {
   "cell_type": "markdown",
   "metadata": {},
   "source": [
    "## Word tokenizing menggunakan NLTK module ##\n",
    "Menggunakan  library NLTK untuk memisahkan kata dalam sebuah kalimat."
   ]
  },
  {
   "cell_type": "code",
   "execution_count": 12,
   "metadata": {},
   "outputs": [
    {
     "name": "stdout",
     "output_type": "stream",
     "text": [
      "Collecting nltk\n",
      "  Downloading nltk-3.8.1-py3-none-any.whl (1.5 MB)\n",
      "     ---------------------------------------- 1.5/1.5 MB 970.5 kB/s eta 0:00:00\n",
      "Requirement already satisfied: click in c:\\users\\djpb\\appdata\\local\\programs\\python\\python311\\lib\\site-packages (from nltk) (8.1.3)\n",
      "Requirement already satisfied: joblib in c:\\users\\djpb\\appdata\\local\\programs\\python\\python311\\lib\\site-packages (from nltk) (1.2.0)\n",
      "Collecting regex>=2021.8.3\n",
      "  Downloading regex-2023.8.8-cp311-cp311-win_amd64.whl (268 kB)\n",
      "     ------------------------------------ 268.3/268.3 kB 533.2 kB/s eta 0:00:00\n",
      "Collecting tqdm\n",
      "  Downloading tqdm-4.66.1-py3-none-any.whl (78 kB)\n",
      "     ---------------------------------------- 78.3/78.3 kB 1.4 MB/s eta 0:00:00\n",
      "Requirement already satisfied: colorama in c:\\users\\djpb\\appdata\\roaming\\python\\python311\\site-packages (from click->nltk) (0.4.6)\n",
      "Installing collected packages: tqdm, regex, nltk\n",
      "Successfully installed nltk-3.8.1 regex-2023.8.8 tqdm-4.66.1\n",
      "Note: you may need to restart the kernel to use updated packages.\n"
     ]
    },
    {
     "name": "stderr",
     "output_type": "stream",
     "text": [
      "\n",
      "[notice] A new release of pip available: 22.3.1 -> 23.2.1\n",
      "[notice] To update, run: python.exe -m pip install --upgrade pip\n"
     ]
    }
   ],
   "source": [
    "pip install nltk"
   ]
  },
  {
   "cell_type": "code",
   "execution_count": 14,
   "metadata": {},
   "outputs": [
    {
     "name": "stderr",
     "output_type": "stream",
     "text": [
      "[nltk_data] Downloading package punkt to\n",
      "[nltk_data]     C:\\Users\\DJPB\\AppData\\Roaming\\nltk_data...\n",
      "[nltk_data]   Unzipping tokenizers\\punkt.zip.\n"
     ]
    }
   ],
   "source": [
    "import nltk\n",
    "nltk.download('punkt')\n",
    "\n",
    "from nltk.tokenize import word_tokenize \n",
    "\n",
    "kalimat = \"Keramaian perayaan Tahun Baru di Jakarta berada di sejumlah lokasi seperti Ancol, TMII, Monas dan kawasan Bundaran Hotel Indonesia (HI). Car free night yang diberlakukan di Sudirman-Jl Mh Thamrin, membuat jalur tersebut dipadati warga. Yang berbeda di pergantian tahun kali ini, Pemprov DKI menggelar nikah massal. Ada 437 pasangan yang menikah dengan saksi Gubernur-Wagub DKI Anies Baswedan-Sandiaga Uno pada Minggu (31/12/2017) malam. Pergantian tahun lebih dulu dijalani warga di timur Indonesia. Kemeriahan tahun baru di Kota Jayapura terpusat di halaman kantor Gubernur Papua, Jl Soa Siu Dok 2. Sedangkan di Kota Ambon, ada 4 titik perayaan malam tahun baru salah satunya di Jembatan Merah Puti Semarak tahun baru juga terasa di sejumlah wilayah tengah Indonesia. Kembang api menyemarakkan pergantian tahun yang dirayakan warga Makassar di kawasan Pantai Losari. Pada pergantian tahun ini, Presiden Joko Widodo lewat akun Facebook menyampaikan ucapan selamat tahun baru. Jokowi bicara mengenai visi Indonesia ke depan menjadi negara maju. \\\"Saat ini dan tahun-tahun mendatang, kita berlayar menuju negara maju dengan membangun manusia Indonesia. Manusia Indonesia yang unggul, yang tangguh, yang bermartabat,\\\" ujarnya. Tapi bukan hanya soal negara, Jokowi dalam pesannya menyelipkan ucapan selamat berlibur. \\\"Tentu ada rasa lelah, karena kurang istirahat, karena kurang piknik. Selamat berlibur di akhir tahun kepada yang berlibur. Selamat berlibur di akhir tahun kepada yang berlibur. Semoga kita semuanya mendapatkan energi dan semangat yang baru dalam menyongsong Tahun Baru 2018,\\\" tutur dia. Selamat tahun baru 2018\"\n",
    "tokens = nltk.tokenize.word_tokenize(kalimat)"
   ]
  },
  {
   "cell_type": "code",
   "execution_count": 16,
   "metadata": {},
   "outputs": [
    {
     "data": {
      "text/plain": [
       "['Keramaian',\n",
       " 'perayaan',\n",
       " 'Tahun',\n",
       " 'Baru',\n",
       " 'di',\n",
       " 'Jakarta',\n",
       " 'berada',\n",
       " 'di',\n",
       " 'sejumlah',\n",
       " 'lokasi',\n",
       " 'seperti',\n",
       " 'Ancol',\n",
       " ',',\n",
       " 'TMII',\n",
       " ',',\n",
       " 'Monas',\n",
       " 'dan',\n",
       " 'kawasan',\n",
       " 'Bundaran',\n",
       " 'Hotel',\n",
       " 'Indonesia',\n",
       " '(',\n",
       " 'HI',\n",
       " ')',\n",
       " '.',\n",
       " 'Car',\n",
       " 'free',\n",
       " 'night',\n",
       " 'yang',\n",
       " 'diberlakukan',\n",
       " 'di',\n",
       " 'Sudirman-Jl',\n",
       " 'Mh',\n",
       " 'Thamrin',\n",
       " ',',\n",
       " 'membuat',\n",
       " 'jalur',\n",
       " 'tersebut',\n",
       " 'dipadati',\n",
       " 'warga',\n",
       " '.',\n",
       " 'Yang',\n",
       " 'berbeda',\n",
       " 'di',\n",
       " 'pergantian',\n",
       " 'tahun',\n",
       " 'kali',\n",
       " 'ini',\n",
       " ',',\n",
       " 'Pemprov',\n",
       " 'DKI',\n",
       " 'menggelar',\n",
       " 'nikah',\n",
       " 'massal',\n",
       " '.',\n",
       " 'Ada',\n",
       " '437',\n",
       " 'pasangan',\n",
       " 'yang',\n",
       " 'menikah',\n",
       " 'dengan',\n",
       " 'saksi',\n",
       " 'Gubernur-Wagub',\n",
       " 'DKI',\n",
       " 'Anies',\n",
       " 'Baswedan-Sandiaga',\n",
       " 'Uno',\n",
       " 'pada',\n",
       " 'Minggu',\n",
       " '(',\n",
       " '31/12/2017',\n",
       " ')',\n",
       " 'malam',\n",
       " '.',\n",
       " 'Pergantian',\n",
       " 'tahun',\n",
       " 'lebih',\n",
       " 'dulu',\n",
       " 'dijalani',\n",
       " 'warga',\n",
       " 'di',\n",
       " 'timur',\n",
       " 'Indonesia',\n",
       " '.',\n",
       " 'Kemeriahan',\n",
       " 'tahun',\n",
       " 'baru',\n",
       " 'di',\n",
       " 'Kota',\n",
       " 'Jayapura',\n",
       " 'terpusat',\n",
       " 'di',\n",
       " 'halaman',\n",
       " 'kantor',\n",
       " 'Gubernur',\n",
       " 'Papua',\n",
       " ',',\n",
       " 'Jl',\n",
       " 'Soa',\n",
       " 'Siu',\n",
       " 'Dok',\n",
       " '2',\n",
       " '.',\n",
       " 'Sedangkan',\n",
       " 'di',\n",
       " 'Kota',\n",
       " 'Ambon',\n",
       " ',',\n",
       " 'ada',\n",
       " '4',\n",
       " 'titik',\n",
       " 'perayaan',\n",
       " 'malam',\n",
       " 'tahun',\n",
       " 'baru',\n",
       " 'salah',\n",
       " 'satunya',\n",
       " 'di',\n",
       " 'Jembatan',\n",
       " 'Merah',\n",
       " 'Puti',\n",
       " 'Semarak',\n",
       " 'tahun',\n",
       " 'baru',\n",
       " 'juga',\n",
       " 'terasa',\n",
       " 'di',\n",
       " 'sejumlah',\n",
       " 'wilayah',\n",
       " 'tengah',\n",
       " 'Indonesia',\n",
       " '.',\n",
       " 'Kembang',\n",
       " 'api',\n",
       " 'menyemarakkan',\n",
       " 'pergantian',\n",
       " 'tahun',\n",
       " 'yang',\n",
       " 'dirayakan',\n",
       " 'warga',\n",
       " 'Makassar',\n",
       " 'di',\n",
       " 'kawasan',\n",
       " 'Pantai',\n",
       " 'Losari',\n",
       " '.',\n",
       " 'Pada',\n",
       " 'pergantian',\n",
       " 'tahun',\n",
       " 'ini',\n",
       " ',',\n",
       " 'Presiden',\n",
       " 'Joko',\n",
       " 'Widodo',\n",
       " 'lewat',\n",
       " 'akun',\n",
       " 'Facebook',\n",
       " 'menyampaikan',\n",
       " 'ucapan',\n",
       " 'selamat',\n",
       " 'tahun',\n",
       " 'baru',\n",
       " '.',\n",
       " 'Jokowi',\n",
       " 'bicara',\n",
       " 'mengenai',\n",
       " 'visi',\n",
       " 'Indonesia',\n",
       " 'ke',\n",
       " 'depan',\n",
       " 'menjadi',\n",
       " 'negara',\n",
       " 'maju',\n",
       " '.',\n",
       " '``',\n",
       " 'Saat',\n",
       " 'ini',\n",
       " 'dan',\n",
       " 'tahun-tahun',\n",
       " 'mendatang',\n",
       " ',',\n",
       " 'kita',\n",
       " 'berlayar',\n",
       " 'menuju',\n",
       " 'negara',\n",
       " 'maju',\n",
       " 'dengan',\n",
       " 'membangun',\n",
       " 'manusia',\n",
       " 'Indonesia',\n",
       " '.',\n",
       " 'Manusia',\n",
       " 'Indonesia',\n",
       " 'yang',\n",
       " 'unggul',\n",
       " ',',\n",
       " 'yang',\n",
       " 'tangguh',\n",
       " ',',\n",
       " 'yang',\n",
       " 'bermartabat',\n",
       " ',',\n",
       " \"''\",\n",
       " 'ujarnya',\n",
       " '.',\n",
       " 'Tapi',\n",
       " 'bukan',\n",
       " 'hanya',\n",
       " 'soal',\n",
       " 'negara',\n",
       " ',',\n",
       " 'Jokowi',\n",
       " 'dalam',\n",
       " 'pesannya',\n",
       " 'menyelipkan',\n",
       " 'ucapan',\n",
       " 'selamat',\n",
       " 'berlibur',\n",
       " '.',\n",
       " '``',\n",
       " 'Tentu',\n",
       " 'ada',\n",
       " 'rasa',\n",
       " 'lelah',\n",
       " ',',\n",
       " 'karena',\n",
       " 'kurang',\n",
       " 'istirahat',\n",
       " ',',\n",
       " 'karena',\n",
       " 'kurang',\n",
       " 'piknik',\n",
       " '.',\n",
       " 'Selamat',\n",
       " 'berlibur',\n",
       " 'di',\n",
       " 'akhir',\n",
       " 'tahun',\n",
       " 'kepada',\n",
       " 'yang',\n",
       " 'berlibur',\n",
       " '.',\n",
       " 'Selamat',\n",
       " 'berlibur',\n",
       " 'di',\n",
       " 'akhir',\n",
       " 'tahun',\n",
       " 'kepada',\n",
       " 'yang',\n",
       " 'berlibur',\n",
       " '.',\n",
       " 'Semoga',\n",
       " 'kita',\n",
       " 'semuanya',\n",
       " 'mendapatkan',\n",
       " 'energi',\n",
       " 'dan',\n",
       " 'semangat',\n",
       " 'yang',\n",
       " 'baru',\n",
       " 'dalam',\n",
       " 'menyongsong',\n",
       " 'Tahun',\n",
       " 'Baru',\n",
       " '2018',\n",
       " ',',\n",
       " \"''\",\n",
       " 'tutur',\n",
       " 'dia',\n",
       " '.',\n",
       " 'Selamat',\n",
       " 'tahun',\n",
       " 'baru',\n",
       " '2018']"
      ]
     },
     "execution_count": 16,
     "metadata": {},
     "output_type": "execute_result"
    }
   ],
   "source": [
    "tokens"
   ]
  },
  {
   "cell_type": "markdown",
   "metadata": {},
   "source": [
    "## Tokenizing menggunakan case folding ##\n",
    "Menggabungkan teknik case folding dengan Tokenizing"
   ]
  },
  {
   "cell_type": "code",
   "execution_count": 17,
   "metadata": {},
   "outputs": [
    {
     "data": {
      "text/plain": [
       "['keramaian',\n",
       " 'perayaan',\n",
       " 'tahun',\n",
       " 'baru',\n",
       " 'di',\n",
       " 'jakarta',\n",
       " 'berada',\n",
       " 'di',\n",
       " 'sejumlah',\n",
       " 'lokasi',\n",
       " 'seperti',\n",
       " 'ancol',\n",
       " 'tmii',\n",
       " 'monas',\n",
       " 'dan',\n",
       " 'kawasan',\n",
       " 'bundaran',\n",
       " 'hotel',\n",
       " 'indonesia',\n",
       " 'hi',\n",
       " 'car',\n",
       " 'free',\n",
       " 'night',\n",
       " 'yang',\n",
       " 'diberlakukan',\n",
       " 'di',\n",
       " 'sudirmanjl',\n",
       " 'mh',\n",
       " 'thamrin',\n",
       " 'membuat',\n",
       " 'jalur',\n",
       " 'tersebut',\n",
       " 'dipadati',\n",
       " 'warga',\n",
       " 'yang',\n",
       " 'berbeda',\n",
       " 'di',\n",
       " 'pergantian',\n",
       " 'tahun',\n",
       " 'kali',\n",
       " 'ini',\n",
       " 'pemprov',\n",
       " 'dki',\n",
       " 'menggelar',\n",
       " 'nikah',\n",
       " 'massal',\n",
       " 'ada',\n",
       " '437',\n",
       " 'pasangan',\n",
       " 'yang',\n",
       " 'menikah',\n",
       " 'dengan',\n",
       " 'saksi',\n",
       " 'gubernurwagub',\n",
       " 'dki',\n",
       " 'anies',\n",
       " 'baswedansandiaga',\n",
       " 'uno',\n",
       " 'pada',\n",
       " 'minggu',\n",
       " '31122017',\n",
       " 'malam',\n",
       " 'pergantian',\n",
       " 'tahun',\n",
       " 'lebih',\n",
       " 'dulu',\n",
       " 'dijalani',\n",
       " 'warga',\n",
       " 'di',\n",
       " 'timur',\n",
       " 'indonesia',\n",
       " 'kemeriahan',\n",
       " 'tahun',\n",
       " 'baru',\n",
       " 'di',\n",
       " 'kota',\n",
       " 'jayapura',\n",
       " 'terpusat',\n",
       " 'di',\n",
       " 'halaman',\n",
       " 'kantor',\n",
       " 'gubernur',\n",
       " 'papua',\n",
       " 'jl',\n",
       " 'soa',\n",
       " 'siu',\n",
       " 'dok',\n",
       " '2',\n",
       " 'sedangkan',\n",
       " 'di',\n",
       " 'kota',\n",
       " 'ambon',\n",
       " 'ada',\n",
       " '4',\n",
       " 'titik',\n",
       " 'perayaan',\n",
       " 'malam',\n",
       " 'tahun',\n",
       " 'baru',\n",
       " 'salah',\n",
       " 'satunya',\n",
       " 'di',\n",
       " 'jembatan',\n",
       " 'merah',\n",
       " 'puti',\n",
       " 'semarak',\n",
       " 'tahun',\n",
       " 'baru',\n",
       " 'juga',\n",
       " 'terasa',\n",
       " 'di',\n",
       " 'sejumlah',\n",
       " 'wilayah',\n",
       " 'tengah',\n",
       " 'indonesia',\n",
       " 'kembang',\n",
       " 'api',\n",
       " 'menyemarakkan',\n",
       " 'pergantian',\n",
       " 'tahun',\n",
       " 'yang',\n",
       " 'dirayakan',\n",
       " 'warga',\n",
       " 'makassar',\n",
       " 'di',\n",
       " 'kawasan',\n",
       " 'pantai',\n",
       " 'losari',\n",
       " 'pada',\n",
       " 'pergantian',\n",
       " 'tahun',\n",
       " 'ini',\n",
       " 'presiden',\n",
       " 'joko',\n",
       " 'widodo',\n",
       " 'lewat',\n",
       " 'akun',\n",
       " 'facebook',\n",
       " 'menyampaikan',\n",
       " 'ucapan',\n",
       " 'selamat',\n",
       " 'tahun',\n",
       " 'baru',\n",
       " 'jokowi',\n",
       " 'bicara',\n",
       " 'mengenai',\n",
       " 'visi',\n",
       " 'indonesia',\n",
       " 'ke',\n",
       " 'depan',\n",
       " 'menjadi',\n",
       " 'negara',\n",
       " 'maju',\n",
       " 'saat',\n",
       " 'ini',\n",
       " 'dan',\n",
       " 'tahuntahun',\n",
       " 'mendatang',\n",
       " 'kita',\n",
       " 'berlayar',\n",
       " 'menuju',\n",
       " 'negara',\n",
       " 'maju',\n",
       " 'dengan',\n",
       " 'membangun',\n",
       " 'manusia',\n",
       " 'indonesia',\n",
       " 'manusia',\n",
       " 'indonesia',\n",
       " 'yang',\n",
       " 'unggul',\n",
       " 'yang',\n",
       " 'tangguh',\n",
       " 'yang',\n",
       " 'bermartabat',\n",
       " 'ujarnya',\n",
       " 'tapi',\n",
       " 'bukan',\n",
       " 'hanya',\n",
       " 'soal',\n",
       " 'negara',\n",
       " 'jokowi',\n",
       " 'dalam',\n",
       " 'pesannya',\n",
       " 'menyelipkan',\n",
       " 'ucapan',\n",
       " 'selamat',\n",
       " 'berlibur',\n",
       " 'tentu',\n",
       " 'ada',\n",
       " 'rasa',\n",
       " 'lelah',\n",
       " 'karena',\n",
       " 'kurang',\n",
       " 'istirahat',\n",
       " 'karena',\n",
       " 'kurang',\n",
       " 'piknik',\n",
       " 'selamat',\n",
       " 'berlibur',\n",
       " 'di',\n",
       " 'akhir',\n",
       " 'tahun',\n",
       " 'kepada',\n",
       " 'yang',\n",
       " 'berlibur',\n",
       " 'selamat',\n",
       " 'berlibur',\n",
       " 'di',\n",
       " 'akhir',\n",
       " 'tahun',\n",
       " 'kepada',\n",
       " 'yang',\n",
       " 'berlibur',\n",
       " 'semoga',\n",
       " 'kita',\n",
       " 'semuanya',\n",
       " 'mendapatkan',\n",
       " 'energi',\n",
       " 'dan',\n",
       " 'semangat',\n",
       " 'yang',\n",
       " 'baru',\n",
       " 'dalam',\n",
       " 'menyongsong',\n",
       " 'tahun',\n",
       " 'baru',\n",
       " '2018',\n",
       " 'tutur',\n",
       " 'dia',\n",
       " 'selamat',\n",
       " 'tahun',\n",
       " 'baru',\n",
       " '2018']"
      ]
     },
     "execution_count": 17,
     "metadata": {},
     "output_type": "execute_result"
    }
   ],
   "source": [
    "from nltk.tokenize import word_tokenize \n",
    " \n",
    "kalimat = \"Keramaian perayaan Tahun Baru di Jakarta berada di sejumlah lokasi seperti Ancol, TMII, Monas dan kawasan Bundaran Hotel Indonesia (HI). Car free night yang diberlakukan di Sudirman-Jl Mh Thamrin, membuat jalur tersebut dipadati warga. Yang berbeda di pergantian tahun kali ini, Pemprov DKI menggelar nikah massal. Ada 437 pasangan yang menikah dengan saksi Gubernur-Wagub DKI Anies Baswedan-Sandiaga Uno pada Minggu (31/12/2017) malam. Pergantian tahun lebih dulu dijalani warga di timur Indonesia. Kemeriahan tahun baru di Kota Jayapura terpusat di halaman kantor Gubernur Papua, Jl Soa Siu Dok 2. Sedangkan di Kota Ambon, ada 4 titik perayaan malam tahun baru salah satunya di Jembatan Merah Puti Semarak tahun baru juga terasa di sejumlah wilayah tengah Indonesia. Kembang api menyemarakkan pergantian tahun yang dirayakan warga Makassar di kawasan Pantai Losari. Pada pergantian tahun ini, Presiden Joko Widodo lewat akun Facebook menyampaikan ucapan selamat tahun baru. Jokowi bicara mengenai visi Indonesia ke depan menjadi negara maju. \\\"Saat ini dan tahun-tahun mendatang, kita berlayar menuju negara maju dengan membangun manusia Indonesia. Manusia Indonesia yang unggul, yang tangguh, yang bermartabat,\\\" ujarnya. Tapi bukan hanya soal negara, Jokowi dalam pesannya menyelipkan ucapan selamat berlibur. \\\"Tentu ada rasa lelah, karena kurang istirahat, karena kurang piknik. Selamat berlibur di akhir tahun kepada yang berlibur. Selamat berlibur di akhir tahun kepada yang berlibur. Semoga kita semuanya mendapatkan energi dan semangat yang baru dalam menyongsong Tahun Baru 2018,\\\" tutur dia. Selamat tahun baru 2018\"\n",
    "kalimat = kalimat.translate(str.maketrans('','',string.punctuation)).lower()\n",
    "\n",
    "tokens = nltk.tokenize.word_tokenize(kalimat)\n",
    "\n",
    "tokens"
   ]
  },
  {
   "cell_type": "markdown",
   "metadata": {},
   "source": [
    "## Frequency Distribution ##\n",
    "Menghitung frekuensi kemunculan setiap tokens(kata) dalam teks."
   ]
  },
  {
   "cell_type": "code",
   "execution_count": 18,
   "metadata": {},
   "outputs": [
    {
     "name": "stdout",
     "output_type": "stream",
     "text": [
      "[('tahun', 13), ('di', 13), ('yang', 10), ('baru', 8), ('indonesia', 6), ('selamat', 5), ('berlibur', 5), ('pergantian', 4), ('dan', 3), ('warga', 3), ('ini', 3), ('ada', 3), ('negara', 3), ('perayaan', 2), ('sejumlah', 2), ('kawasan', 2), ('dki', 2), ('dengan', 2), ('pada', 2), ('malam', 2), ('kota', 2), ('ucapan', 2), ('jokowi', 2), ('maju', 2), ('kita', 2), ('manusia', 2), ('dalam', 2), ('karena', 2), ('kurang', 2), ('akhir', 2), ('kepada', 2), ('2018', 2), ('keramaian', 1), ('jakarta', 1), ('berada', 1), ('lokasi', 1), ('seperti', 1), ('ancol', 1), ('tmii', 1), ('monas', 1), ('bundaran', 1), ('hotel', 1), ('hi', 1), ('car', 1), ('free', 1), ('night', 1), ('diberlakukan', 1), ('sudirmanjl', 1), ('mh', 1), ('thamrin', 1), ('membuat', 1), ('jalur', 1), ('tersebut', 1), ('dipadati', 1), ('berbeda', 1), ('kali', 1), ('pemprov', 1), ('menggelar', 1), ('nikah', 1), ('massal', 1), ('437', 1), ('pasangan', 1), ('menikah', 1), ('saksi', 1), ('gubernurwagub', 1), ('anies', 1), ('baswedansandiaga', 1), ('uno', 1), ('minggu', 1), ('31122017', 1), ('lebih', 1), ('dulu', 1), ('dijalani', 1), ('timur', 1), ('kemeriahan', 1), ('jayapura', 1), ('terpusat', 1), ('halaman', 1), ('kantor', 1), ('gubernur', 1), ('papua', 1), ('jl', 1), ('soa', 1), ('siu', 1), ('dok', 1), ('2', 1), ('sedangkan', 1), ('ambon', 1), ('4', 1), ('titik', 1), ('salah', 1), ('satunya', 1), ('jembatan', 1), ('merah', 1), ('puti', 1), ('semarak', 1), ('juga', 1), ('terasa', 1), ('wilayah', 1), ('tengah', 1), ('kembang', 1), ('api', 1), ('menyemarakkan', 1), ('dirayakan', 1), ('makassar', 1), ('pantai', 1), ('losari', 1), ('presiden', 1), ('joko', 1), ('widodo', 1), ('lewat', 1), ('akun', 1), ('facebook', 1), ('menyampaikan', 1), ('bicara', 1), ('mengenai', 1), ('visi', 1), ('ke', 1), ('depan', 1), ('menjadi', 1), ('saat', 1), ('tahuntahun', 1), ('mendatang', 1), ('berlayar', 1), ('menuju', 1), ('membangun', 1), ('unggul', 1), ('tangguh', 1), ('bermartabat', 1), ('ujarnya', 1), ('tapi', 1), ('bukan', 1), ('hanya', 1), ('soal', 1), ('pesannya', 1), ('menyelipkan', 1), ('tentu', 1), ('rasa', 1), ('lelah', 1), ('istirahat', 1), ('piknik', 1), ('semoga', 1), ('semuanya', 1), ('mendapatkan', 1), ('energi', 1), ('semangat', 1), ('menyongsong', 1), ('tutur', 1), ('dia', 1)]\n"
     ]
    }
   ],
   "source": [
    "from nltk.tokenize import word_tokenize\n",
    "from nltk.probability import FreqDist\n",
    "\n",
    "kalimat = \"Keramaian perayaan Tahun Baru di Jakarta berada di sejumlah lokasi seperti Ancol, TMII, Monas dan kawasan Bundaran Hotel Indonesia (HI). Car free night yang diberlakukan di Sudirman-Jl Mh Thamrin, membuat jalur tersebut dipadati warga. Yang berbeda di pergantian tahun kali ini, Pemprov DKI menggelar nikah massal. Ada 437 pasangan yang menikah dengan saksi Gubernur-Wagub DKI Anies Baswedan-Sandiaga Uno pada Minggu (31/12/2017) malam. Pergantian tahun lebih dulu dijalani warga di timur Indonesia. Kemeriahan tahun baru di Kota Jayapura terpusat di halaman kantor Gubernur Papua, Jl Soa Siu Dok 2. Sedangkan di Kota Ambon, ada 4 titik perayaan malam tahun baru salah satunya di Jembatan Merah Puti Semarak tahun baru juga terasa di sejumlah wilayah tengah Indonesia. Kembang api menyemarakkan pergantian tahun yang dirayakan warga Makassar di kawasan Pantai Losari. Pada pergantian tahun ini, Presiden Joko Widodo lewat akun Facebook menyampaikan ucapan selamat tahun baru. Jokowi bicara mengenai visi Indonesia ke depan menjadi negara maju. \\\"Saat ini dan tahun-tahun mendatang, kita berlayar menuju negara maju dengan membangun manusia Indonesia. Manusia Indonesia yang unggul, yang tangguh, yang bermartabat,\\\" ujarnya. Tapi bukan hanya soal negara, Jokowi dalam pesannya menyelipkan ucapan selamat berlibur. \\\"Tentu ada rasa lelah, karena kurang istirahat, karena kurang piknik. Selamat berlibur di akhir tahun kepada yang berlibur. Selamat berlibur di akhir tahun kepada yang berlibur. Semoga kita semuanya mendapatkan energi dan semangat yang baru dalam menyongsong Tahun Baru 2018,\\\" tutur dia. Selamat tahun baru 2018\"\n",
    "kalimat = kalimat.translate(str.maketrans('','',string.punctuation)).lower()\n",
    "\n",
    "tokens = nltk.tokenize.word_tokenize(kalimat)\n",
    "kemunculan = nltk.FreqDist(tokens)\n",
    "\n",
    "print(kemunculan.most_common())"
   ]
  },
  {
   "cell_type": "markdown",
   "metadata": {},
   "source": [
    "## Frequency distribution visualization menggunakan matplotlib ##\n",
    "Untuk menggambarkan frekuensi kemunculan setiap tokens dapat menggunakan library matplotlib pada Python.\n"
   ]
  },
  {
   "cell_type": "code",
   "execution_count": 19,
   "metadata": {},
   "outputs": [
    {
     "data": {
      "image/png": "[encoded data removed]",
      "text/plain": [
       "<Figure size 640x480 with 1 Axes>"
      ]
     },
     "metadata": {},
     "output_type": "display_data"
    }
   ],
   "source": [
    "import matplotlib.pyplot as plt\n",
    "\n",
    "kemunculan.plot(30, cumulative=False)\n",
    "\n",
    "plt.show()"
   ]
  },
  {
   "cell_type": "markdown",
   "metadata": {},
   "source": [
    "## tokenizing: sentences tokenizing menggunakan NLTK module ##\n",
    "Memisahkan kalimat dalam sebuah paragraf."
   ]
  },
  {
   "cell_type": "code",
   "execution_count": 20,
   "metadata": {},
   "outputs": [
    {
     "name": "stdout",
     "output_type": "stream",
     "text": [
      "['Keramaian perayaan Tahun Baru di Jakarta berada di sejumlah lokasi seperti Ancol, TMII, Monas dan kawasan Bundaran Hotel Indonesia (HI).', 'Car free night yang diberlakukan di Sudirman-Jl Mh Thamrin, membuat jalur tersebut dipadati warga.', 'Yang berbeda di pergantian tahun kali ini, Pemprov DKI menggelar nikah massal.', 'Ada 437 pasangan yang menikah dengan saksi Gubernur-Wagub DKI Anies Baswedan-Sandiaga Uno pada Minggu (31/12/2017) malam.', 'Pergantian tahun lebih dulu dijalani warga di timur Indonesia.', 'Kemeriahan tahun baru di Kota Jayapura terpusat di halaman kantor Gubernur Papua, Jl Soa Siu Dok 2.', 'Sedangkan di Kota Ambon, ada 4 titik perayaan malam tahun baru salah satunya di Jembatan Merah Puti Semarak tahun baru juga terasa di sejumlah wilayah tengah Indonesia.', 'Kembang api menyemarakkan pergantian tahun yang dirayakan warga Makassar di kawasan Pantai Losari.', 'Pada pergantian tahun ini, Presiden Joko Widodo lewat akun Facebook menyampaikan ucapan selamat tahun baru.', 'Jokowi bicara mengenai visi Indonesia ke depan menjadi negara maju.', '\"Saat ini dan tahun-tahun mendatang, kita berlayar menuju negara maju dengan membangun manusia Indonesia.', 'Manusia Indonesia yang unggul, yang tangguh, yang bermartabat,\" ujarnya.', 'Tapi bukan hanya soal negara, Jokowi dalam pesannya menyelipkan ucapan selamat berlibur.', '\"Tentu ada rasa lelah, karena kurang istirahat, karena kurang piknik.', 'Selamat berlibur di akhir tahun kepada yang berlibur.', 'Selamat berlibur di akhir tahun kepada yang berlibur.', 'Semoga kita semuanya mendapatkan energi dan semangat yang baru dalam menyongsong Tahun Baru 2018,\" tutur dia.', 'Selamat tahun baru 2018']\n"
     ]
    }
   ],
   "source": [
    "from nltk.tokenize import sent_tokenize\n",
    "\n",
    "kalimat = \"Keramaian perayaan Tahun Baru di Jakarta berada di sejumlah lokasi seperti Ancol, TMII, Monas dan kawasan Bundaran Hotel Indonesia (HI). Car free night yang diberlakukan di Sudirman-Jl Mh Thamrin, membuat jalur tersebut dipadati warga. Yang berbeda di pergantian tahun kali ini, Pemprov DKI menggelar nikah massal. Ada 437 pasangan yang menikah dengan saksi Gubernur-Wagub DKI Anies Baswedan-Sandiaga Uno pada Minggu (31/12/2017) malam. Pergantian tahun lebih dulu dijalani warga di timur Indonesia. Kemeriahan tahun baru di Kota Jayapura terpusat di halaman kantor Gubernur Papua, Jl Soa Siu Dok 2. Sedangkan di Kota Ambon, ada 4 titik perayaan malam tahun baru salah satunya di Jembatan Merah Puti Semarak tahun baru juga terasa di sejumlah wilayah tengah Indonesia. Kembang api menyemarakkan pergantian tahun yang dirayakan warga Makassar di kawasan Pantai Losari. Pada pergantian tahun ini, Presiden Joko Widodo lewat akun Facebook menyampaikan ucapan selamat tahun baru. Jokowi bicara mengenai visi Indonesia ke depan menjadi negara maju. \\\"Saat ini dan tahun-tahun mendatang, kita berlayar menuju negara maju dengan membangun manusia Indonesia. Manusia Indonesia yang unggul, yang tangguh, yang bermartabat,\\\" ujarnya. Tapi bukan hanya soal negara, Jokowi dalam pesannya menyelipkan ucapan selamat berlibur. \\\"Tentu ada rasa lelah, karena kurang istirahat, karena kurang piknik. Selamat berlibur di akhir tahun kepada yang berlibur. Selamat berlibur di akhir tahun kepada yang berlibur. Semoga kita semuanya mendapatkan energi dan semangat yang baru dalam menyongsong Tahun Baru 2018,\\\" tutur dia. Selamat tahun baru 2018\"\n",
    "\n",
    "tokens = nltk.tokenize.sent_tokenize(kalimat)\n",
    "\n",
    "print(tokens)"
   ]
  },
  {
   "cell_type": "markdown",
   "metadata": {},
   "source": [
    "## Filtering menggunakan NLTK ##"
   ]
  },
  {
   "cell_type": "code",
   "execution_count": 23,
   "metadata": {},
   "outputs": [
    {
     "name": "stderr",
     "output_type": "stream",
     "text": [
      "[nltk_data] Downloading package punkt to\n",
      "[nltk_data]     C:\\Users\\DJPB\\AppData\\Roaming\\nltk_data...\n",
      "[nltk_data]   Package punkt is already up-to-date!\n",
      "[nltk_data] Downloading package stopwords to\n",
      "[nltk_data]     C:\\Users\\DJPB\\AppData\\Roaming\\nltk_data...\n",
      "[nltk_data]   Package stopwords is already up-to-date!\n"
     ]
    },
    {
     "data": {
      "text/plain": [
       "True"
      ]
     },
     "execution_count": 23,
     "metadata": {},
     "output_type": "execute_result"
    }
   ],
   "source": [
    "import nltk\n",
    "nltk.download('punkt')  # Download the 'punkt' tokenizer model\n",
    "nltk.download('stopwords')  # Download the 'stopwords' resource\n"
   ]
  },
  {
   "cell_type": "code",
   "execution_count": 24,
   "metadata": {},
   "outputs": [
    {
     "name": "stdout",
     "output_type": "stream",
     "text": [
      "['keramaian', 'perayaan', 'jakarta', 'lokasi', 'ancol', 'tmii', 'monas', 'kawasan', 'bundaran', 'hotel', 'indonesia', 'hi', 'car', 'free', 'night', 'diberlakukan', 'sudirmanjl', 'mh', 'thamrin', 'jalur', 'dipadati', 'warga', 'berbeda', 'pergantian', 'kali', 'pemprov', 'dki', 'menggelar', 'nikah', 'massal', '437', 'pasangan', 'menikah', 'saksi', 'gubernurwagub', 'dki', 'anies', 'baswedansandiaga', 'uno', 'minggu', '31122017', 'malam', 'pergantian', 'dijalani', 'warga', 'timur', 'indonesia', 'kemeriahan', 'kota', 'jayapura', 'terpusat', 'halaman', 'kantor', 'gubernur', 'papua', 'jl', 'soa', 'siu', 'dok', '2', 'kota', 'ambon', '4', 'titik', 'perayaan', 'malam', 'salah', 'satunya', 'jembatan', 'merah', 'puti', 'semarak', 'wilayah', 'indonesia', 'kembang', 'api', 'menyemarakkan', 'pergantian', 'dirayakan', 'warga', 'makassar', 'kawasan', 'pantai', 'losari', 'pergantian', 'presiden', 'joko', 'widodo', 'akun', 'facebook', 'ucapan', 'selamat', 'jokowi', 'bicara', 'visi', 'indonesia', 'negara', 'maju', 'tahuntahun', 'berlayar', 'negara', 'maju', 'membangun', 'manusia', 'indonesia', 'manusia', 'indonesia', 'unggul', 'tangguh', 'bermartabat', 'negara', 'jokowi', 'pesannya', 'menyelipkan', 'ucapan', 'selamat', 'berlibur', 'lelah', 'istirahat', 'piknik', 'selamat', 'berlibur', 'berlibur', 'selamat', 'berlibur', 'berlibur', 'semoga', 'energi', 'semangat', 'menyongsong', '2018', 'selamat', '2018']\n"
     ]
    }
   ],
   "source": [
    "from nltk.tokenize import sent_tokenize, word_tokenize\n",
    "from nltk.corpus import stopwords\n",
    " \n",
    "kalimat = \"Keramaian perayaan Tahun Baru di Jakarta berada di sejumlah lokasi seperti Ancol, TMII, Monas dan kawasan Bundaran Hotel Indonesia (HI). Car free night yang diberlakukan di Sudirman-Jl Mh Thamrin, membuat jalur tersebut dipadati warga. Yang berbeda di pergantian tahun kali ini, Pemprov DKI menggelar nikah massal. Ada 437 pasangan yang menikah dengan saksi Gubernur-Wagub DKI Anies Baswedan-Sandiaga Uno pada Minggu (31/12/2017) malam. Pergantian tahun lebih dulu dijalani warga di timur Indonesia. Kemeriahan tahun baru di Kota Jayapura terpusat di halaman kantor Gubernur Papua, Jl Soa Siu Dok 2. Sedangkan di Kota Ambon, ada 4 titik perayaan malam tahun baru salah satunya di Jembatan Merah Puti Semarak tahun baru juga terasa di sejumlah wilayah tengah Indonesia. Kembang api menyemarakkan pergantian tahun yang dirayakan warga Makassar di kawasan Pantai Losari. Pada pergantian tahun ini, Presiden Joko Widodo lewat akun Facebook menyampaikan ucapan selamat tahun baru. Jokowi bicara mengenai visi Indonesia ke depan menjadi negara maju. \\\"Saat ini dan tahun-tahun mendatang, kita berlayar menuju negara maju dengan membangun manusia Indonesia. Manusia Indonesia yang unggul, yang tangguh, yang bermartabat,\\\" ujarnya. Tapi bukan hanya soal negara, Jokowi dalam pesannya menyelipkan ucapan selamat berlibur. \\\"Tentu ada rasa lelah, karena kurang istirahat, karena kurang piknik. Selamat berlibur di akhir tahun kepada yang berlibur. Selamat berlibur di akhir tahun kepada yang berlibur. Semoga kita semuanya mendapatkan energi dan semangat yang baru dalam menyongsong Tahun Baru 2018,\\\" tutur dia. Selamat tahun baru 2018\"\n",
    "kalimat = kalimat.translate(str.maketrans('','',string.punctuation)).lower()\n",
    "\n",
    "tokens = word_tokenize(kalimat)\n",
    "listStopword = set(stopwords.words('Indonesian'))\n",
    "\n",
    "removed = []\n",
    "for t in tokens:\n",
    "    if t not in listStopword:\n",
    "        removed.append(t)\n",
    " \n",
    "print(removed)"
   ]
  },
  {
   "cell_type": "markdown",
   "metadata": {},
   "source": [
    "## Filtering menggunakan sastrawi stopword list ##\n",
    "Melihat daftar stopword pada Sastrawi."
   ]
  },
  {
   "cell_type": "code",
   "execution_count": 26,
   "metadata": {},
   "outputs": [
    {
     "name": "stdout",
     "output_type": "stream",
     "text": [
      "Collecting Sastrawi\n",
      "  Downloading Sastrawi-1.0.1-py2.py3-none-any.whl (209 kB)\n",
      "     ------------------------------------- 209.7/209.7 kB 38.3 kB/s eta 0:00:00\n",
      "Installing collected packages: Sastrawi\n",
      "Successfully installed Sastrawi-1.0.1\n",
      "Note: you may need to restart the kernel to use updated packages.\n"
     ]
    },
    {
     "name": "stderr",
     "output_type": "stream",
     "text": [
      "\n",
      "[notice] A new release of pip available: 22.3.1 -> 23.2.1\n",
      "[notice] To update, run: python.exe -m pip install --upgrade pip\n"
     ]
    }
   ],
   "source": [
    "pip install Sastrawi"
   ]
  },
  {
   "cell_type": "code",
   "execution_count": 28,
   "metadata": {},
   "outputs": [
    {
     "name": "stdout",
     "output_type": "stream",
     "text": [
      "['yang', 'untuk', 'pada', 'ke', 'para', 'namun', 'menurut', 'antara', 'dia', 'dua', 'ia', 'seperti', 'jika', 'jika', 'sehingga', 'kembali', 'dan', 'tidak', 'ini', 'karena', 'kepada', 'oleh', 'saat', 'harus', 'sementara', 'setelah', 'belum', 'kami', 'sekitar', 'bagi', 'serta', 'di', 'dari', 'telah', 'sebagai', 'masih', 'hal', 'ketika', 'adalah', 'itu', 'dalam', 'bisa', 'bahwa', 'atau', 'hanya', 'kita', 'dengan', 'akan', 'juga', 'ada', 'mereka', 'sudah', 'saya', 'terhadap', 'secara', 'agar', 'lain', 'anda', 'begitu', 'mengapa', 'kenapa', 'yaitu', 'yakni', 'daripada', 'itulah', 'lagi', 'maka', 'tentang', 'demi', 'dimana', 'kemana', 'pula', 'sambil', 'sebelum', 'sesudah', 'supaya', 'guna', 'kah', 'pun', 'sampai', 'sedangkan', 'selagi', 'sementara', 'tetapi', 'apakah', 'kecuali', 'sebab', 'selain', 'seolah', 'seraya', 'seterusnya', 'tanpa', 'agak', 'boleh', 'dapat', 'dsb', 'dst', 'dll', 'dahulu', 'dulunya', 'anu', 'demikian', 'tapi', 'ingin', 'juga', 'nggak', 'mari', 'nanti', 'melainkan', 'oh', 'ok', 'seharusnya', 'sebetulnya', 'setiap', 'setidaknya', 'sesuatu', 'pasti', 'saja', 'toh', 'ya', 'walau', 'tolong', 'tentu', 'amat', 'apalagi', 'bagaimanapun']\n"
     ]
    }
   ],
   "source": [
    "from Sastrawi.StopWordRemover.StopWordRemoverFactory import StopWordRemoverFactory\n",
    "\n",
    "factory = StopWordRemoverFactory()\n",
    "stopwords = factory.get_stop_words()\n",
    "print(stopwords)\n"
   ]
  },
  {
   "cell_type": "markdown",
   "metadata": {},
   "source": [
    "## Filtering menggunakan sastrawi ##"
   ]
  },
  {
   "cell_type": "code",
   "execution_count": 29,
   "metadata": {},
   "outputs": [
    {
     "name": "stdout",
     "output_type": "stream",
     "text": [
      "['keramaian', 'perayaan', 'tahun', 'baru', 'jakarta', 'berada', 'sejumlah', 'lokasi', 'ancol', 'tmii', 'monas', 'kawasan', 'bundaran', 'hotel', 'indonesia', 'hi', 'car', 'free', 'night', 'diberlakukan', 'sudirmanjl', 'mh', 'thamrin', 'membuat', 'jalur', 'tersebut', 'dipadati', 'warga', 'berbeda', 'pergantian', 'tahun', 'kali', 'pemprov', 'dki', 'menggelar', 'nikah', 'massal', '437', 'pasangan', 'menikah', 'saksi', 'gubernurwagub', 'dki', 'anies', 'baswedansandiaga', 'uno', 'minggu', '31122017', 'malam', 'pergantian', 'tahun', 'lebih', 'dulu', 'dijalani', 'warga', 'timur', 'indonesia', 'kemeriahan', 'tahun', 'baru', 'kota', 'jayapura', 'terpusat', 'halaman', 'kantor', 'gubernur', 'papua', 'jl', 'soa', 'siu', 'dok', '2', 'kota', 'ambon', '4', 'titik', 'perayaan', 'malam', 'tahun', 'baru', 'salah', 'satunya', 'jembatan', 'merah', 'puti', 'semarak', 'tahun', 'baru', 'terasa', 'sejumlah', 'wilayah', 'tengah', 'indonesia', 'kembang', 'api', 'menyemarakkan', 'pergantian', 'tahun', 'dirayakan', 'warga', 'makassar', 'kawasan', 'pantai', 'losari', 'pergantian', 'tahun', 'presiden', 'joko', 'widodo', 'lewat', 'akun', 'facebook', 'menyampaikan', 'ucapan', 'selamat', 'tahun', 'baru', 'jokowi', 'bicara', 'mengenai', 'visi', 'indonesia', 'depan', 'menjadi', 'negara', 'maju', 'ini', 'tahuntahun', 'mendatang', 'berlayar', 'menuju', 'negara', 'maju', 'membangun', 'manusia', 'indonesia', 'manusia', 'indonesia', 'unggul', 'tangguh', 'bermartabat', 'ujarnya', 'bukan', 'soal', 'negara', 'jokowi', 'pesannya', 'menyelipkan', 'ucapan', 'selamat', 'berlibur', 'ada', 'rasa', 'lelah', 'kurang', 'istirahat', 'kurang', 'piknik', 'selamat', 'berlibur', 'akhir', 'tahun', 'berlibur', 'selamat', 'berlibur', 'di', 'akhir', 'tahun', 'yang', 'berlibur', 'semoga', 'semuanya', 'mendapatkan', 'energi', 'semangat', 'yang', 'baru', 'menyongsong', 'tahun', 'baru', '2018', 'tutur', 'selamat', 'tahun', 'baru', '2018']\n"
     ]
    }
   ],
   "source": [
    "from Sastrawi.StopWordRemover.StopWordRemoverFactory import StopWordRemoverFactory\n",
    "from nltk.tokenize import word_tokenize \n",
    "\n",
    "factory = StopWordRemoverFactory()\n",
    "stopword = factory.create_stop_word_remover()\n",
    "\n",
    "kalimat = \"Keramaian perayaan Tahun Baru di Jakarta berada di sejumlah lokasi seperti Ancol, TMII, Monas dan kawasan Bundaran Hotel Indonesia (HI). Car free night yang diberlakukan di Sudirman-Jl Mh Thamrin, membuat jalur tersebut dipadati warga. Yang berbeda di pergantian tahun kali ini, Pemprov DKI menggelar nikah massal. Ada 437 pasangan yang menikah dengan saksi Gubernur-Wagub DKI Anies Baswedan-Sandiaga Uno pada Minggu (31/12/2017) malam. Pergantian tahun lebih dulu dijalani warga di timur Indonesia. Kemeriahan tahun baru di Kota Jayapura terpusat di halaman kantor Gubernur Papua, Jl Soa Siu Dok 2. Sedangkan di Kota Ambon, ada 4 titik perayaan malam tahun baru salah satunya di Jembatan Merah Puti Semarak tahun baru juga terasa di sejumlah wilayah tengah Indonesia. Kembang api menyemarakkan pergantian tahun yang dirayakan warga Makassar di kawasan Pantai Losari. Pada pergantian tahun ini, Presiden Joko Widodo lewat akun Facebook menyampaikan ucapan selamat tahun baru. Jokowi bicara mengenai visi Indonesia ke depan menjadi negara maju. \\\"Saat ini dan tahun-tahun mendatang, kita berlayar menuju negara maju dengan membangun manusia Indonesia. Manusia Indonesia yang unggul, yang tangguh, yang bermartabat,\\\" ujarnya. Tapi bukan hanya soal negara, Jokowi dalam pesannya menyelipkan ucapan selamat berlibur. \\\"Tentu ada rasa lelah, karena kurang istirahat, karena kurang piknik. Selamat berlibur di akhir tahun kepada yang berlibur. Selamat berlibur di akhir tahun kepada yang berlibur. Semoga kita semuanya mendapatkan energi dan semangat yang baru dalam menyongsong Tahun Baru 2018,\\\" tutur dia. Selamat tahun baru 2018\"\n",
    "kalimat = kalimat.translate(str.maketrans('','',string.punctuation)).lower()\n",
    "\n",
    "stop = stopword.remove(kalimat)\n",
    "tokens = nltk.tokenize.word_tokenize(stop)\n",
    "\n",
    "print(tokens)"
   ]
  },
  {
   "cell_type": "markdown",
   "metadata": {},
   "source": [
    "## Stemming : porter stemming algorithm menggunakan NLTK ##"
   ]
  },
  {
   "cell_type": "code",
   "execution_count": 31,
   "metadata": {},
   "outputs": [
    {
     "name": "stdout",
     "output_type": "stream",
     "text": [
      "program  :  program\n",
      "programs  :  program\n",
      "programer  :  program\n",
      "programing  :  program\n",
      "programers  :  program\n"
     ]
    }
   ],
   "source": [
    "from nltk.stem import PorterStemmer    \n",
    "ps = PorterStemmer() \n",
    "\n",
    "kata = [\"program\", \"programs\", \"programer\", \"programing\", \"programers\"]\n",
    "\n",
    "for k in kata:\n",
    "    print(k, \" : \", ps.stem(k))"
   ]
  },
  {
   "cell_type": "markdown",
   "metadata": {},
   "source": [
    "## Stemming bahasa indonesia menggunakan sastrawi ##"
   ]
  },
  {
   "cell_type": "code",
   "execution_count": 38,
   "metadata": {},
   "outputs": [
    {
     "data": {
      "text/plain": [
       "'ramai raya tahun baru di jakarta ada di jumlah lokasi seperti ancol tmii monas dan kawasan bundar hotel indonesia hi car free night yang laku di sudirman-jl mh thamrin buat jalur sebut padat warga yang beda di ganti tahun kali ini pemprov dki gelar nikah massal ada 437 pasang yang meni dengan saksi gubernur-wagub dki anies baswedan-sandiaga uno pada minggu 31 12 2017 malam ganti tahun lebih dulu jalan warga di timur indonesia riah tahun baru di kota jayapura pusat di halaman kantor gubernur papua jl soa siu dok 2 sedang di kota ambon ada 4 titik raya malam tahun baru salah satu di jembatan merah puti semarak tahun baru juga asa di jumlah wilayah tengah indonesia kembang api semarak ganti tahun yang raya warga makassar di kawasan pantai losari pada ganti tahun ini presiden joko widodo lewat akun facebook sampai ucap selamat tahun baru jokowi bicara kena visi indonesia ke depan jadi negara maju saat ini dan tahun datang kita layar tuju negara maju dengan bangun manusia indonesia manusia indonesia yang unggul yang tangguh yang martabat ujar tapi bukan hanya soal negara jokowi dalam pesan selip ucap selamat libur tentu ada rasa lelah karena kurang istirahat karena kurang piknik selamat libur di akhir tahun kepada yang libur selamat libur di akhir tahun kepada yang libur moga kita semua dapat energi dan semangat yang baru dalam songsong tahun baru 2018 tutur dia selamat tahun baru 2018'"
      ]
     },
     "execution_count": 38,
     "metadata": {},
     "output_type": "execute_result"
    }
   ],
   "source": [
    "from Sastrawi.Stemmer.StemmerFactory import StemmerFactory\n",
    "factory = StemmerFactory()\n",
    "stemmer = factory.create_stemmer()\n",
    " \n",
    "kalimat = \"Keramaian perayaan Tahun Baru di Jakarta berada di sejumlah lokasi seperti Ancol, TMII, Monas dan kawasan Bundaran Hotel Indonesia (HI). Car free night yang diberlakukan di Sudirman-Jl Mh Thamrin, membuat jalur tersebut dipadati warga. Yang berbeda di pergantian tahun kali ini, Pemprov DKI menggelar nikah massal. Ada 437 pasangan yang menikah dengan saksi Gubernur-Wagub DKI Anies Baswedan-Sandiaga Uno pada Minggu (31/12/2017) malam. Pergantian tahun lebih dulu dijalani warga di timur Indonesia. Kemeriahan tahun baru di Kota Jayapura terpusat di halaman kantor Gubernur Papua, Jl Soa Siu Dok 2. Sedangkan di Kota Ambon, ada 4 titik perayaan malam tahun baru salah satunya di Jembatan Merah Puti Semarak tahun baru juga terasa di sejumlah wilayah tengah Indonesia. Kembang api menyemarakkan pergantian tahun yang dirayakan warga Makassar di kawasan Pantai Losari. Pada pergantian tahun ini, Presiden Joko Widodo lewat akun Facebook menyampaikan ucapan selamat tahun baru. Jokowi bicara mengenai visi Indonesia ke depan menjadi negara maju. \\\"Saat ini dan tahun-tahun mendatang, kita berlayar menuju negara maju dengan membangun manusia Indonesia. Manusia Indonesia yang unggul, yang tangguh, yang bermartabat,\\\" ujarnya. Tapi bukan hanya soal negara, Jokowi dalam pesannya menyelipkan ucapan selamat berlibur. \\\"Tentu ada rasa lelah, karena kurang istirahat, karena kurang piknik. Selamat berlibur di akhir tahun kepada yang berlibur. Selamat berlibur di akhir tahun kepada yang berlibur. Semoga kita semuanya mendapatkan energi dan semangat yang baru dalam menyongsong Tahun Baru 2018,\\\" tutur dia. Selamat tahun baru 2018\"\n",
    "\n",
    "hasil = stemmer.stem(kalimat)\n",
    "\n",
    "hasil\n"
   ]
  }
 ],
 "metadata": {
  "kernelspec": {
   "display_name": "Python 3",
   "language": "python",
   "name": "python3"
  },
  "language_info": {
   "codemirror_mode": {
    "name": "ipython",
    "version": 3
   },
   "file_extension": ".py",
   "mimetype": "text/x-python",
   "name": "python",
   "nbconvert_exporter": "python",
   "pygments_lexer": "ipython3",
   "version": "3.11.2"
  },
  "orig_nbformat": 4
 },
 "nbformat": 4,
 "nbformat_minor": 2
}
