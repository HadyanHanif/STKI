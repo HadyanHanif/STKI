{
  "nbformat": 4,
  "nbformat_minor": 0,
  "metadata": {
    "colab": {
      "provenance": []
    },
    "kernelspec": {
      "name": "python3",
      "display_name": "Python 3"
    },
    "language_info": {
      "name": "python"
    }
  },
  "cells": [
    {
      "cell_type": "code",
      "source": [
        "from sklearn.feature_extraction.text import TfidfVectorizer\n",
        "from sklearn.model_selection import train_test_split\n",
        "from sklearn.naive_bayes import MultinomialNB\n",
        "from sklearn.metrics import accuracy_score, classification_report\n",
        "import pandas as pd\n",
        "from sklearn.metrics.pairwise import cosine_similarity\n",
        "\n",
        "# Baca dataset\n",
        "df = pd.read_csv('dataset-ayam.csv')\n",
        "\n",
        "# Contoh pra-proses data (dapat disesuaikan)\n",
        "df['Title'] = df['Title'].astype(str)\n",
        "df['Ingredients'] = df['Ingredients'].astype(str)\n",
        "df['Steps'] = df['Steps'].astype(str)\n",
        "df['Loves'] = df['Loves'].fillna(0).astype(int)\n",
        "df['URL'] = df['URL'].astype(str)\n",
        "\n",
        "# Pisahkan data menjadi data pelatihan dan pengujian\n",
        "X_train, X_test, y_train, y_test = train_test_split(df[['Title', 'Ingredients', 'Steps', 'URL']], df['Loves'], test_size=0.2, random_state=42)\n",
        "\n",
        "# Combine text columns into a single column for both training and testing data\n",
        "X_train['combined_text'] = X_train['Title'] + ' ' + X_train['Ingredients'] + ' ' + X_train['Steps'] + ' ' + X_train['URL']\n",
        "X_test['combined_text'] = X_test['Title'] + ' ' + X_test['Ingredients'] + ' ' + X_test['Steps'] + ' ' + X_test['URL']\n",
        "\n",
        "# Initialize TfidfVectorizer\n",
        "tfidf_vectorizer = TfidfVectorizer()\n",
        "\n",
        "# Apply TF-IDF on the combined text data for training\n",
        "X_train_tfidf = tfidf_vectorizer.fit_transform(X_train['combined_text'])\n",
        "\n",
        "# Apply TF-IDF on the combined text data for testing\n",
        "X_test_tfidf = tfidf_vectorizer.transform(X_test['combined_text'])\n",
        "\n",
        "# Initialize the model\n",
        "model = MultinomialNB()\n",
        "\n",
        "# Train the model on the training data\n",
        "model.fit(X_train_tfidf, y_train)\n",
        "\n",
        "# Make predictions on the testing data\n",
        "predictions = model.predict(X_test_tfidf)\n",
        "\n",
        "accuracy = accuracy_score(y_test, predictions)\n",
        "report = classification_report(y_test, predictions)\n",
        "\n",
        "# Print the results in the order of 'Title', 'Ingredients', and 'Steps'\n",
        "results_df = pd.DataFrame({'Title': X_test['Title'], 'Ingredients': X_test['Ingredients'], 'Steps': X_test['Steps'], 'Actual': y_test, 'Predicted': predictions})\n",
        "results_df = results_df[['Title', 'Ingredients', 'Steps', 'Actual', 'Predicted']]\n",
        "\n",
        "# Contoh pencarian query menggunakan kolom 'Ingredients'\n",
        "query_ingredients = \"sambal rawit merah\"\n",
        "query_tfidf = tfidf_vectorizer.transform([query_ingredients])\n",
        "\n",
        "# Calculate cosine similarity between the query and all instances in the testing data\n",
        "similarity_scores = cosine_similarity(query_tfidf, X_test_tfidf)\n",
        "\n",
        "# Get the indices of the top 3 most similar instances\n",
        "top_3_indices = similarity_scores.argsort()[0][-3:][::-1]\n",
        "\n",
        "# Print the top 3 most similar instances\n",
        "print('\\nTop 3 most similar instances:')\n",
        "print(results_df.iloc[top_3_indices])\n"
      ],
      "metadata": {
        "colab": {
          "base_uri": "https://localhost:8080/"
        },
        "id": "18mZi35ZTW-5",
        "outputId": "95867e75-2a09-4071-8d96-74aee1370a66"
      },
      "execution_count": null,
      "outputs": [
        {
          "output_type": "stream",
          "name": "stdout",
          "text": [
            "\n",
            "Top 3 most similar instances:\n",
            "                        Title  \\\n",
            "354            Sup Ayam Rawit   \n",
            "1352              Ayam Geprek   \n",
            "535   Ayam Geprek Super Pedas   \n",
            "\n",
            "                                            Ingredients  \\\n",
            "354   250 gr ayam potong2--800 ml air--3 genggam cab...   \n",
            "1352  1/4 kg dada ayam--4 Sdm tepung maizena--6 Sdm ...   \n",
            "535   1/2 kg dada ayam--10 Cabai orange--2 Cabai ker...   \n",
            "\n",
            "                                                  Steps  Actual  Predicted  \n",
            "354   Rebus ayam sampai mendidih. Buang air rebusan ...       9          6  \n",
            "1352  Pertama potong ayam menjadi tiga bagian,marina...       7          6  \n",
            "535   Cuci ayam sampai bersih lalu di beri air jeruk...       4          6  \n"
          ]
        },
        {
          "output_type": "stream",
          "name": "stderr",
          "text": [
            "/usr/local/lib/python3.10/dist-packages/sklearn/metrics/_classification.py:1344: UndefinedMetricWarning: Precision and F-score are ill-defined and being set to 0.0 in labels with no predicted samples. Use `zero_division` parameter to control this behavior.\n",
            "  _warn_prf(average, modifier, msg_start, len(result))\n",
            "/usr/local/lib/python3.10/dist-packages/sklearn/metrics/_classification.py:1344: UndefinedMetricWarning: Precision and F-score are ill-defined and being set to 0.0 in labels with no predicted samples. Use `zero_division` parameter to control this behavior.\n",
            "  _warn_prf(average, modifier, msg_start, len(result))\n",
            "/usr/local/lib/python3.10/dist-packages/sklearn/metrics/_classification.py:1344: UndefinedMetricWarning: Precision and F-score are ill-defined and being set to 0.0 in labels with no predicted samples. Use `zero_division` parameter to control this behavior.\n",
            "  _warn_prf(average, modifier, msg_start, len(result))\n"
          ]
        }
      ]
    }
  ]
}