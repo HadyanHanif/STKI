{
 "cells": [
  {
   "cell_type": "code",
   "execution_count": 1,
   "metadata": {},
   "outputs": [
    {
     "name": "stdout",
     "output_type": "stream",
     "text": [
      "Predicted class for D5: Politik\n"
     ]
    }
   ],
   "source": [
    "from sklearn.feature_extraction.text import CountVectorizer\n",
    "from sklearn.neighbors import KNeighborsClassifier\n",
    "from sklearn.pipeline import make_pipeline\n",
    "\n",
    "documents_new = [\"Pelatihan coding di Google Developer Days semakin berkualitas.\",\n",
    "                 \"Pemerintah mengeluarkan kebijakan baru terkait pajak penghasilan.\",\n",
    "                 \"Startup teknologi meraih investasi besar.\",\n",
    "                 \"Pemilihan umum dijadwalkan pada bulan depan.\",\n",
    "                 \"Perusahaan teknologi besar mengalami penurunan saham.\"]\n",
    "\n",
    "labels_new = [1, 2, 1, 2, None]\n",
    "\n",
    "model_new = make_pipeline(CountVectorizer(), KNeighborsClassifier(n_neighbors=3))\n",
    "\n",
    "model_new.fit(documents_new[:-1], labels_new[:-1])\n",
    "\n",
    "predicted_class_new = model_new.predict([documents_new[-1]])[0]\n",
    "\n",
    "class_labels_new = {1: 'Teknologi', 2: 'Politik'}\n",
    "predicted_class_label_new = class_labels_new.get(predicted_class_new, 'Unknown')\n",
    "\n",
    "print(f\"Predicted class for D5: {predicted_class_label_new}\")"
   ]
  }
 ],
 "metadata": {
  "kernelspec": {
   "display_name": "Python 3",
   "language": "python",
   "name": "python3"
  },
  "language_info": {
   "codemirror_mode": {
    "name": "ipython",
    "version": 3
   },
   "file_extension": ".py",
   "mimetype": "text/x-python",
   "name": "python",
   "nbconvert_exporter": "python",
   "pygments_lexer": "ipython3",
   "version": "3.11.2"
  }
 },
 "nbformat": 4,
 "nbformat_minor": 2
}
