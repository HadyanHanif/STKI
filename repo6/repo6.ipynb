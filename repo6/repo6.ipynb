{
 "cells": [
  {
   "cell_type": "code",
   "execution_count": 2,
   "metadata": {},
   "outputs": [
    {
     "name": "stdout",
     "output_type": "stream",
     "text": [
      "Requirement already satisfied: scikit-learn in c:\\users\\djpb\\appdata\\local\\programs\\python\\python311\\lib\\site-packages (1.2.2)\n",
      "Requirement already satisfied: numpy>=1.17.3 in c:\\users\\djpb\\appdata\\local\\programs\\python\\python311\\lib\\site-packages (from scikit-learn) (1.25.0)\n",
      "Requirement already satisfied: scipy>=1.3.2 in c:\\users\\djpb\\appdata\\local\\programs\\python\\python311\\lib\\site-packages (from scikit-learn) (1.11.0)\n",
      "Requirement already satisfied: joblib>=1.1.1 in c:\\users\\djpb\\appdata\\local\\programs\\python\\python311\\lib\\site-packages (from scikit-learn) (1.2.0)\n",
      "Requirement already satisfied: threadpoolctl>=2.0.0 in c:\\users\\djpb\\appdata\\local\\programs\\python\\python311\\lib\\site-packages (from scikit-learn) (3.1.0)\n",
      "Note: you may need to restart the kernel to use updated packages.\n",
      "Predicted class for D5: Politik\n"
     ]
    },
    {
     "name": "stderr",
     "output_type": "stream",
     "text": [
      "\n",
      "[notice] A new release of pip available: 22.3.1 -> 23.3.1\n",
      "[notice] To update, run: python.exe -m pip install --upgrade pip\n"
     ]
    }
   ],
   "source": [
    "# Install necessary libraries\n",
    "%pip install scikit-learn\n",
    "\n",
    "# Import libraries\n",
    "from sklearn.feature_extraction.text import CountVectorizer\n",
    "from sklearn.neighbors import KNeighborsClassifier\n",
    "from sklearn.pipeline import make_pipeline\n",
    "\n",
    "# Create the dataset\n",
    "documents = [\"Sepakbola PSIS tahun ini semakin indah.\",\n",
    "             \"Presiden Indonesia menaikan harga BBM.\",\n",
    "             \"Partai politik Indonesia berburu suara.\",\n",
    "             \"Timnas Indonesia gagal juara AFC Olahraga\",\n",
    "             \"Presiden menaikan gaji Timnas Indonesia\"]\n",
    "\n",
    "labels = [1, 2, 2, 1, None]  # Class labels: 1 (Olahraga), 2 (Politik), None (to be predicted)\n",
    "\n",
    "# Create a k-NN model pipeline\n",
    "model = make_pipeline(CountVectorizer(), KNeighborsClassifier(n_neighbors=3))\n",
    "\n",
    "# Fit the model with the training data\n",
    "model.fit(documents[:-1], labels[:-1])\n",
    "\n",
    "# Predict the class of the new document (D5)\n",
    "predicted_class = model.predict([documents[-1]])[0]\n",
    "\n",
    "# Map the predicted class to its corresponding label\n",
    "class_labels = {1: 'Olahraga', 2: 'Politik'}\n",
    "predicted_class_label = class_labels.get(predicted_class, 'Unknown')\n",
    "\n",
    "# Print the result\n",
    "print(f\"Predicted class for D5: {predicted_class_label}\")"
   ]
  }
 ],
 "metadata": {
  "kernelspec": {
   "display_name": "Python 3",
   "language": "python",
   "name": "python3"
  },
  "language_info": {
   "codemirror_mode": {
    "name": "ipython",
    "version": 3
   },
   "file_extension": ".py",
   "mimetype": "text/x-python",
   "name": "python",
   "nbconvert_exporter": "python",
   "pygments_lexer": "ipython3",
   "version": "3.11.2"
  }
 },
 "nbformat": 4,
 "nbformat_minor": 2
}
